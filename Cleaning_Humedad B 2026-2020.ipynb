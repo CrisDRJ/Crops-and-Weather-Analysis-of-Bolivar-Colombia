{
 "cells": [
  {
   "cell_type": "code",
   "execution_count": null,
   "metadata": {},
   "outputs": [],
   "source": [
    "#EDA and Cleanliness Moisture Data \n",
    "\n",
    "#import of libraries \n",
    "import pandas as pd \n",
    "import numpy as np \n",
    "import matplotlib.pyplot as plt\n",
    "import seaborn as sns "
   ]
  },
  {
   "cell_type": "code",
   "execution_count": 2,
   "metadata": {},
   "outputs": [],
   "source": [
    "df_hu=pd.read_csv('Humedad_del_Aire_2_metros_20241004.csv')"
   ]
  },
  {
   "cell_type": "code",
   "execution_count": 4,
   "metadata": {},
   "outputs": [
    {
     "name": "stdout",
     "output_type": "stream",
     "text": [
      "<class 'pandas.core.frame.DataFrame'>\n",
      "RangeIndex: 165025 entries, 0 to 165024\n",
      "Data columns (total 12 columns):\n",
      " #   Column             Non-Null Count   Dtype  \n",
      "---  ------             --------------   -----  \n",
      " 0   CodigoEstacion     165025 non-null  int64  \n",
      " 1   CodigoSensor       165025 non-null  int64  \n",
      " 2   FechaObservacion   165025 non-null  object \n",
      " 3   ValorObservado     165025 non-null  int64  \n",
      " 4   NombreEstacion     165025 non-null  object \n",
      " 5   Departamento       165025 non-null  object \n",
      " 6   Municipio          165025 non-null  object \n",
      " 7   ZonaHidrografica   165025 non-null  object \n",
      " 8   Latitud            165025 non-null  float64\n",
      " 9   Longitud           165025 non-null  float64\n",
      " 10  DescripcionSensor  165025 non-null  object \n",
      " 11  UnidadMedida       165025 non-null  object \n",
      "dtypes: float64(2), int64(3), object(7)\n",
      "memory usage: 15.1+ MB\n"
     ]
    }
   ],
   "source": [
    "df_hu.info()"
   ]
  },
  {
   "cell_type": "code",
   "execution_count": null,
   "metadata": {},
   "outputs": [],
   "source": [
    "\"\"\"\n",
    "1. There is no null data in the data. \n",
    "2. columns are found that do not provide information for the project \n",
    "3. columns that require a change of data type\n",
    "\"\"\""
   ]
  },
  {
   "cell_type": "code",
   "execution_count": 5,
   "metadata": {},
   "outputs": [
    {
     "data": {
      "text/html": [
       "<div>\n",
       "<style scoped>\n",
       "    .dataframe tbody tr th:only-of-type {\n",
       "        vertical-align: middle;\n",
       "    }\n",
       "\n",
       "    .dataframe tbody tr th {\n",
       "        vertical-align: top;\n",
       "    }\n",
       "\n",
       "    .dataframe thead th {\n",
       "        text-align: right;\n",
       "    }\n",
       "</style>\n",
       "<table border=\"1\" class=\"dataframe\">\n",
       "  <thead>\n",
       "    <tr style=\"text-align: right;\">\n",
       "      <th></th>\n",
       "      <th>CodigoEstacion</th>\n",
       "      <th>CodigoSensor</th>\n",
       "      <th>ValorObservado</th>\n",
       "      <th>Latitud</th>\n",
       "      <th>Longitud</th>\n",
       "    </tr>\n",
       "  </thead>\n",
       "  <tbody>\n",
       "    <tr>\n",
       "      <th>count</th>\n",
       "      <td>1.650250e+05</td>\n",
       "      <td>165025.0</td>\n",
       "      <td>165025.000000</td>\n",
       "      <td>165025.000000</td>\n",
       "      <td>165025.000000</td>\n",
       "    </tr>\n",
       "    <tr>\n",
       "      <th>mean</th>\n",
       "      <td>2.789258e+08</td>\n",
       "      <td>27.0</td>\n",
       "      <td>76.229814</td>\n",
       "      <td>9.904137</td>\n",
       "      <td>-75.078742</td>\n",
       "    </tr>\n",
       "    <tr>\n",
       "      <th>std</th>\n",
       "      <td>7.151320e+08</td>\n",
       "      <td>0.0</td>\n",
       "      <td>23.504393</td>\n",
       "      <td>0.726633</td>\n",
       "      <td>0.343992</td>\n",
       "    </tr>\n",
       "    <tr>\n",
       "      <th>min</th>\n",
       "      <td>1.401501e+07</td>\n",
       "      <td>27.0</td>\n",
       "      <td>0.000000</td>\n",
       "      <td>7.885417</td>\n",
       "      <td>-75.516028</td>\n",
       "    </tr>\n",
       "    <tr>\n",
       "      <th>25%</th>\n",
       "      <td>2.901500e+07</td>\n",
       "      <td>27.0</td>\n",
       "      <td>65.000000</td>\n",
       "      <td>9.715750</td>\n",
       "      <td>-75.278278</td>\n",
       "    </tr>\n",
       "    <tr>\n",
       "      <th>50%</th>\n",
       "      <td>2.901504e+07</td>\n",
       "      <td>27.0</td>\n",
       "      <td>83.000000</td>\n",
       "      <td>10.064444</td>\n",
       "      <td>-75.236458</td>\n",
       "    </tr>\n",
       "    <tr>\n",
       "      <th>75%</th>\n",
       "      <td>2.903500e+07</td>\n",
       "      <td>27.0</td>\n",
       "      <td>94.000000</td>\n",
       "      <td>10.142583</td>\n",
       "      <td>-74.852222</td>\n",
       "    </tr>\n",
       "    <tr>\n",
       "      <th>max</th>\n",
       "      <td>2.901500e+09</td>\n",
       "      <td>27.0</td>\n",
       "      <td>100.000000</td>\n",
       "      <td>10.794167</td>\n",
       "      <td>-74.240972</td>\n",
       "    </tr>\n",
       "  </tbody>\n",
       "</table>\n",
       "</div>"
      ],
      "text/plain": [
       "       CodigoEstacion  CodigoSensor  ValorObservado        Latitud  \\\n",
       "count    1.650250e+05      165025.0   165025.000000  165025.000000   \n",
       "mean     2.789258e+08          27.0       76.229814       9.904137   \n",
       "std      7.151320e+08           0.0       23.504393       0.726633   \n",
       "min      1.401501e+07          27.0        0.000000       7.885417   \n",
       "25%      2.901500e+07          27.0       65.000000       9.715750   \n",
       "50%      2.901504e+07          27.0       83.000000      10.064444   \n",
       "75%      2.903500e+07          27.0       94.000000      10.142583   \n",
       "max      2.901500e+09          27.0      100.000000      10.794167   \n",
       "\n",
       "            Longitud  \n",
       "count  165025.000000  \n",
       "mean      -75.078742  \n",
       "std         0.343992  \n",
       "min       -75.516028  \n",
       "25%       -75.278278  \n",
       "50%       -75.236458  \n",
       "75%       -74.852222  \n",
       "max       -74.240972  "
      ]
     },
     "execution_count": 5,
     "metadata": {},
     "output_type": "execute_result"
    }
   ],
   "source": [
    "df_hu.describe()"
   ]
  },
  {
   "cell_type": "code",
   "execution_count": 3,
   "metadata": {},
   "outputs": [
    {
     "data": {
      "text/html": [
       "<div>\n",
       "<style scoped>\n",
       "    .dataframe tbody tr th:only-of-type {\n",
       "        vertical-align: middle;\n",
       "    }\n",
       "\n",
       "    .dataframe tbody tr th {\n",
       "        vertical-align: top;\n",
       "    }\n",
       "\n",
       "    .dataframe thead th {\n",
       "        text-align: right;\n",
       "    }\n",
       "</style>\n",
       "<table border=\"1\" class=\"dataframe\">\n",
       "  <thead>\n",
       "    <tr style=\"text-align: right;\">\n",
       "      <th></th>\n",
       "      <th>CodigoEstacion</th>\n",
       "      <th>CodigoSensor</th>\n",
       "      <th>FechaObservacion</th>\n",
       "      <th>ValorObservado</th>\n",
       "      <th>NombreEstacion</th>\n",
       "      <th>Departamento</th>\n",
       "      <th>Municipio</th>\n",
       "      <th>ZonaHidrografica</th>\n",
       "      <th>Latitud</th>\n",
       "      <th>Longitud</th>\n",
       "      <th>DescripcionSensor</th>\n",
       "      <th>UnidadMedida</th>\n",
       "    </tr>\n",
       "  </thead>\n",
       "  <tbody>\n",
       "    <tr>\n",
       "      <th>0</th>\n",
       "      <td>29015000</td>\n",
       "      <td>27</td>\n",
       "      <td>10/20/2016 02:00:00 AM</td>\n",
       "      <td>100</td>\n",
       "      <td>EL GUAMO - AUT</td>\n",
       "      <td>BOLIVAR</td>\n",
       "      <td>EL GUAMO</td>\n",
       "      <td>BAJO MAGDALENA</td>\n",
       "      <td>10.064444</td>\n",
       "      <td>-74.852222</td>\n",
       "      <td>Humedad del aire 2 mt</td>\n",
       "      <td>%</td>\n",
       "    </tr>\n",
       "    <tr>\n",
       "      <th>1</th>\n",
       "      <td>29015000</td>\n",
       "      <td>27</td>\n",
       "      <td>05/07/2016 02:00:00 AM</td>\n",
       "      <td>100</td>\n",
       "      <td>EL GUAMO - AUT</td>\n",
       "      <td>BOLIVAR</td>\n",
       "      <td>EL GUAMO</td>\n",
       "      <td>BAJO MAGDALENA</td>\n",
       "      <td>10.064444</td>\n",
       "      <td>-74.852222</td>\n",
       "      <td>Humedad del aire 2 mt</td>\n",
       "      <td>%</td>\n",
       "    </tr>\n",
       "    <tr>\n",
       "      <th>2</th>\n",
       "      <td>29015000</td>\n",
       "      <td>27</td>\n",
       "      <td>07/16/2016 09:00:00 AM</td>\n",
       "      <td>79</td>\n",
       "      <td>EL GUAMO - AUT</td>\n",
       "      <td>BOLIVAR</td>\n",
       "      <td>EL GUAMO</td>\n",
       "      <td>BAJO MAGDALENA</td>\n",
       "      <td>10.064444</td>\n",
       "      <td>-74.852222</td>\n",
       "      <td>Humedad del aire 2 mt</td>\n",
       "      <td>%</td>\n",
       "    </tr>\n",
       "    <tr>\n",
       "      <th>3</th>\n",
       "      <td>29015000</td>\n",
       "      <td>27</td>\n",
       "      <td>04/08/2016 08:00:00 PM</td>\n",
       "      <td>69</td>\n",
       "      <td>EL GUAMO - AUT</td>\n",
       "      <td>BOLIVAR</td>\n",
       "      <td>EL GUAMO</td>\n",
       "      <td>BAJO MAGDALENA</td>\n",
       "      <td>10.064444</td>\n",
       "      <td>-74.852222</td>\n",
       "      <td>Humedad del aire 2 mt</td>\n",
       "      <td>%</td>\n",
       "    </tr>\n",
       "    <tr>\n",
       "      <th>4</th>\n",
       "      <td>29035000</td>\n",
       "      <td>27</td>\n",
       "      <td>09/12/2017 11:00:00 AM</td>\n",
       "      <td>81</td>\n",
       "      <td>SINCERIN  - AUT</td>\n",
       "      <td>BOLIVAR</td>\n",
       "      <td>ARJONA</td>\n",
       "      <td>BAJO MAGDALENA</td>\n",
       "      <td>10.142583</td>\n",
       "      <td>-75.278278</td>\n",
       "      <td>Humedad del aire 2 mt</td>\n",
       "      <td>%</td>\n",
       "    </tr>\n",
       "  </tbody>\n",
       "</table>\n",
       "</div>"
      ],
      "text/plain": [
       "   CodigoEstacion  CodigoSensor        FechaObservacion  ValorObservado  \\\n",
       "0        29015000            27  10/20/2016 02:00:00 AM             100   \n",
       "1        29015000            27  05/07/2016 02:00:00 AM             100   \n",
       "2        29015000            27  07/16/2016 09:00:00 AM              79   \n",
       "3        29015000            27  04/08/2016 08:00:00 PM              69   \n",
       "4        29035000            27  09/12/2017 11:00:00 AM              81   \n",
       "\n",
       "    NombreEstacion Departamento Municipio ZonaHidrografica    Latitud  \\\n",
       "0   EL GUAMO - AUT      BOLIVAR  EL GUAMO   BAJO MAGDALENA  10.064444   \n",
       "1   EL GUAMO - AUT      BOLIVAR  EL GUAMO   BAJO MAGDALENA  10.064444   \n",
       "2   EL GUAMO - AUT      BOLIVAR  EL GUAMO   BAJO MAGDALENA  10.064444   \n",
       "3   EL GUAMO - AUT      BOLIVAR  EL GUAMO   BAJO MAGDALENA  10.064444   \n",
       "4  SINCERIN  - AUT      BOLIVAR    ARJONA   BAJO MAGDALENA  10.142583   \n",
       "\n",
       "    Longitud      DescripcionSensor UnidadMedida  \n",
       "0 -74.852222  Humedad del aire 2 mt            %  \n",
       "1 -74.852222  Humedad del aire 2 mt            %  \n",
       "2 -74.852222  Humedad del aire 2 mt            %  \n",
       "3 -74.852222  Humedad del aire 2 mt            %  \n",
       "4 -75.278278  Humedad del aire 2 mt            %  "
      ]
     },
     "execution_count": 3,
     "metadata": {},
     "output_type": "execute_result"
    }
   ],
   "source": [
    "df_hu.head()"
   ]
  },
  {
   "cell_type": "code",
   "execution_count": 6,
   "metadata": {},
   "outputs": [
    {
     "data": {
      "text/plain": [
       "Index(['CodigoEstacion', 'CodigoSensor', 'FechaObservacion', 'ValorObservado',\n",
       "       'NombreEstacion', 'Departamento', 'Municipio', 'ZonaHidrografica',\n",
       "       'Latitud', 'Longitud', 'DescripcionSensor', 'UnidadMedida'],\n",
       "      dtype='object')"
      ]
     },
     "execution_count": 6,
     "metadata": {},
     "output_type": "execute_result"
    }
   ],
   "source": [
    "df_hu.columns"
   ]
  },
  {
   "cell_type": "code",
   "execution_count": null,
   "metadata": {},
   "outputs": [],
   "source": [
    "# A filtering of the information will be performed by columns, removing columns that are not required for the project\n",
    "\n",
    "# Creation of a list of columns to be deleted \n",
    "\n",
    "delete_colum = ['CodigoSensor', 'NombreEstacion', 'Latitud', 'Longitud', 'DescripcionSensor', 'UnidadMedida']\n",
    "\n",
    "# Definition of the function for deleting columns \n",
    "\n",
    "def column_delete(df_hu):\n",
    "    # Iteration over each value in the delete_colum list\n",
    "    for col in delete_colum:\n",
    "        # We verify that the name is in the columns of the DF\n",
    "        if col in df_hu.columns:\n",
    "            # We remove the column at this position\n",
    "            df_hu = df_hu.drop(columns=[col])\n",
    "            # Printing the deleted column\n",
    "            print(f'Deleted column: {col}')\n",
    "    return df_hu\n"
   ]
  },
  {
   "cell_type": "code",
   "execution_count": 4,
   "metadata": {},
   "outputs": [
    {
     "name": "stdout",
     "output_type": "stream",
     "text": [
      "Columna eliminada:CodigoSensor\n",
      "Columna eliminada:NombreEstacion\n",
      "Columna eliminada:Latitud\n",
      "Columna eliminada:Longitud\n",
      "Columna eliminada:DescripcionSensor\n",
      "Columna eliminada:UnidadMedida\n"
     ]
    }
   ],
   "source": [
    "df_hum= column_delete(df_hu)"
   ]
  },
  {
   "cell_type": "code",
   "execution_count": 11,
   "metadata": {},
   "outputs": [
    {
     "data": {
      "text/html": [
       "<div>\n",
       "<style scoped>\n",
       "    .dataframe tbody tr th:only-of-type {\n",
       "        vertical-align: middle;\n",
       "    }\n",
       "\n",
       "    .dataframe tbody tr th {\n",
       "        vertical-align: top;\n",
       "    }\n",
       "\n",
       "    .dataframe thead th {\n",
       "        text-align: right;\n",
       "    }\n",
       "</style>\n",
       "<table border=\"1\" class=\"dataframe\">\n",
       "  <thead>\n",
       "    <tr style=\"text-align: right;\">\n",
       "      <th></th>\n",
       "      <th>CodigoEstacion</th>\n",
       "      <th>FechaObservacion</th>\n",
       "      <th>ValorObservado</th>\n",
       "      <th>Departamento</th>\n",
       "      <th>Municipio</th>\n",
       "      <th>ZonaHidrografica</th>\n",
       "    </tr>\n",
       "  </thead>\n",
       "  <tbody>\n",
       "    <tr>\n",
       "      <th>0</th>\n",
       "      <td>29015000</td>\n",
       "      <td>10/20/2016 02:00:00 AM</td>\n",
       "      <td>100</td>\n",
       "      <td>BOLIVAR</td>\n",
       "      <td>EL GUAMO</td>\n",
       "      <td>BAJO MAGDALENA</td>\n",
       "    </tr>\n",
       "    <tr>\n",
       "      <th>1</th>\n",
       "      <td>29015000</td>\n",
       "      <td>05/07/2016 02:00:00 AM</td>\n",
       "      <td>100</td>\n",
       "      <td>BOLIVAR</td>\n",
       "      <td>EL GUAMO</td>\n",
       "      <td>BAJO MAGDALENA</td>\n",
       "    </tr>\n",
       "    <tr>\n",
       "      <th>2</th>\n",
       "      <td>29015000</td>\n",
       "      <td>07/16/2016 09:00:00 AM</td>\n",
       "      <td>79</td>\n",
       "      <td>BOLIVAR</td>\n",
       "      <td>EL GUAMO</td>\n",
       "      <td>BAJO MAGDALENA</td>\n",
       "    </tr>\n",
       "    <tr>\n",
       "      <th>3</th>\n",
       "      <td>29015000</td>\n",
       "      <td>04/08/2016 08:00:00 PM</td>\n",
       "      <td>69</td>\n",
       "      <td>BOLIVAR</td>\n",
       "      <td>EL GUAMO</td>\n",
       "      <td>BAJO MAGDALENA</td>\n",
       "    </tr>\n",
       "    <tr>\n",
       "      <th>4</th>\n",
       "      <td>29035000</td>\n",
       "      <td>09/12/2017 11:00:00 AM</td>\n",
       "      <td>81</td>\n",
       "      <td>BOLIVAR</td>\n",
       "      <td>ARJONA</td>\n",
       "      <td>BAJO MAGDALENA</td>\n",
       "    </tr>\n",
       "    <tr>\n",
       "      <th>...</th>\n",
       "      <td>...</td>\n",
       "      <td>...</td>\n",
       "      <td>...</td>\n",
       "      <td>...</td>\n",
       "      <td>...</td>\n",
       "      <td>...</td>\n",
       "    </tr>\n",
       "    <tr>\n",
       "      <th>165020</th>\n",
       "      <td>29035000</td>\n",
       "      <td>12/31/2020 04:00:00 PM</td>\n",
       "      <td>67</td>\n",
       "      <td>BOLIVAR</td>\n",
       "      <td>ARJONA</td>\n",
       "      <td>BAJO MAGDALENA</td>\n",
       "    </tr>\n",
       "    <tr>\n",
       "      <th>165021</th>\n",
       "      <td>29035000</td>\n",
       "      <td>12/31/2020 01:00:00 PM</td>\n",
       "      <td>61</td>\n",
       "      <td>BOLIVAR</td>\n",
       "      <td>ARJONA</td>\n",
       "      <td>BAJO MAGDALENA</td>\n",
       "    </tr>\n",
       "    <tr>\n",
       "      <th>165022</th>\n",
       "      <td>29035000</td>\n",
       "      <td>12/31/2020 02:00:00 PM</td>\n",
       "      <td>60</td>\n",
       "      <td>BOLIVAR</td>\n",
       "      <td>ARJONA</td>\n",
       "      <td>BAJO MAGDALENA</td>\n",
       "    </tr>\n",
       "    <tr>\n",
       "      <th>165023</th>\n",
       "      <td>29015000</td>\n",
       "      <td>12/31/2020 09:00:00 PM</td>\n",
       "      <td>51</td>\n",
       "      <td>BOLIVAR</td>\n",
       "      <td>EL GUAMO</td>\n",
       "      <td>BAJO MAGDALENA</td>\n",
       "    </tr>\n",
       "    <tr>\n",
       "      <th>165024</th>\n",
       "      <td>29015000</td>\n",
       "      <td>12/31/2020 05:00:00 PM</td>\n",
       "      <td>39</td>\n",
       "      <td>BOLIVAR</td>\n",
       "      <td>EL GUAMO</td>\n",
       "      <td>BAJO MAGDALENA</td>\n",
       "    </tr>\n",
       "  </tbody>\n",
       "</table>\n",
       "<p>165025 rows × 6 columns</p>\n",
       "</div>"
      ],
      "text/plain": [
       "        CodigoEstacion        FechaObservacion  ValorObservado Departamento  \\\n",
       "0             29015000  10/20/2016 02:00:00 AM             100      BOLIVAR   \n",
       "1             29015000  05/07/2016 02:00:00 AM             100      BOLIVAR   \n",
       "2             29015000  07/16/2016 09:00:00 AM              79      BOLIVAR   \n",
       "3             29015000  04/08/2016 08:00:00 PM              69      BOLIVAR   \n",
       "4             29035000  09/12/2017 11:00:00 AM              81      BOLIVAR   \n",
       "...                ...                     ...             ...          ...   \n",
       "165020        29035000  12/31/2020 04:00:00 PM              67      BOLIVAR   \n",
       "165021        29035000  12/31/2020 01:00:00 PM              61      BOLIVAR   \n",
       "165022        29035000  12/31/2020 02:00:00 PM              60      BOLIVAR   \n",
       "165023        29015000  12/31/2020 09:00:00 PM              51      BOLIVAR   \n",
       "165024        29015000  12/31/2020 05:00:00 PM              39      BOLIVAR   \n",
       "\n",
       "       Municipio ZonaHidrografica  \n",
       "0       EL GUAMO   BAJO MAGDALENA  \n",
       "1       EL GUAMO   BAJO MAGDALENA  \n",
       "2       EL GUAMO   BAJO MAGDALENA  \n",
       "3       EL GUAMO   BAJO MAGDALENA  \n",
       "4         ARJONA   BAJO MAGDALENA  \n",
       "...          ...              ...  \n",
       "165020    ARJONA   BAJO MAGDALENA  \n",
       "165021    ARJONA   BAJO MAGDALENA  \n",
       "165022    ARJONA   BAJO MAGDALENA  \n",
       "165023  EL GUAMO   BAJO MAGDALENA  \n",
       "165024  EL GUAMO   BAJO MAGDALENA  \n",
       "\n",
       "[165025 rows x 6 columns]"
      ]
     },
     "execution_count": 11,
     "metadata": {},
     "output_type": "execute_result"
    }
   ],
   "source": [
    "df_hum"
   ]
  },
  {
   "cell_type": "code",
   "execution_count": null,
   "metadata": {},
   "outputs": [],
   "source": [
    "# let´s change data type of columns FechaObservación and add AñoObservacionH column\n",
    "#data type chanfe \n",
    "df_hum['FechaObservacion']=pd.to_datetime(df_hum['FechaObservacion'])\n",
    "\n",
    "#creation AñoObservacionH column\n",
    "df_hum['AñoObservacionH']= df_hum['FechaObservacion'].dt.year\n",
    "df_hum['FechaObservacion']= df_hum['FechaObservacion'].dt.date\n"
   ]
  },
  {
   "cell_type": "code",
   "execution_count": 6,
   "metadata": {},
   "outputs": [],
   "source": [
    "df_hume=df_hum"
   ]
  },
  {
   "cell_type": "code",
   "execution_count": 14,
   "metadata": {},
   "outputs": [
    {
     "data": {
      "text/html": [
       "<div>\n",
       "<style scoped>\n",
       "    .dataframe tbody tr th:only-of-type {\n",
       "        vertical-align: middle;\n",
       "    }\n",
       "\n",
       "    .dataframe tbody tr th {\n",
       "        vertical-align: top;\n",
       "    }\n",
       "\n",
       "    .dataframe thead th {\n",
       "        text-align: right;\n",
       "    }\n",
       "</style>\n",
       "<table border=\"1\" class=\"dataframe\">\n",
       "  <thead>\n",
       "    <tr style=\"text-align: right;\">\n",
       "      <th></th>\n",
       "      <th>CodigoEstacion</th>\n",
       "      <th>FechaObservacion</th>\n",
       "      <th>ValorObservado</th>\n",
       "      <th>Departamento</th>\n",
       "      <th>Municipio</th>\n",
       "      <th>ZonaHidrografica</th>\n",
       "      <th>AñoObservacionH</th>\n",
       "    </tr>\n",
       "  </thead>\n",
       "  <tbody>\n",
       "    <tr>\n",
       "      <th>0</th>\n",
       "      <td>29015000</td>\n",
       "      <td>2016-10-20</td>\n",
       "      <td>100</td>\n",
       "      <td>BOLIVAR</td>\n",
       "      <td>EL GUAMO</td>\n",
       "      <td>BAJO MAGDALENA</td>\n",
       "      <td>2016</td>\n",
       "    </tr>\n",
       "    <tr>\n",
       "      <th>1</th>\n",
       "      <td>29015000</td>\n",
       "      <td>2016-05-07</td>\n",
       "      <td>100</td>\n",
       "      <td>BOLIVAR</td>\n",
       "      <td>EL GUAMO</td>\n",
       "      <td>BAJO MAGDALENA</td>\n",
       "      <td>2016</td>\n",
       "    </tr>\n",
       "    <tr>\n",
       "      <th>2</th>\n",
       "      <td>29015000</td>\n",
       "      <td>2016-07-16</td>\n",
       "      <td>79</td>\n",
       "      <td>BOLIVAR</td>\n",
       "      <td>EL GUAMO</td>\n",
       "      <td>BAJO MAGDALENA</td>\n",
       "      <td>2016</td>\n",
       "    </tr>\n",
       "    <tr>\n",
       "      <th>3</th>\n",
       "      <td>29015000</td>\n",
       "      <td>2016-04-08</td>\n",
       "      <td>69</td>\n",
       "      <td>BOLIVAR</td>\n",
       "      <td>EL GUAMO</td>\n",
       "      <td>BAJO MAGDALENA</td>\n",
       "      <td>2016</td>\n",
       "    </tr>\n",
       "    <tr>\n",
       "      <th>4</th>\n",
       "      <td>29035000</td>\n",
       "      <td>2017-09-12</td>\n",
       "      <td>81</td>\n",
       "      <td>BOLIVAR</td>\n",
       "      <td>ARJONA</td>\n",
       "      <td>BAJO MAGDALENA</td>\n",
       "      <td>2017</td>\n",
       "    </tr>\n",
       "    <tr>\n",
       "      <th>...</th>\n",
       "      <td>...</td>\n",
       "      <td>...</td>\n",
       "      <td>...</td>\n",
       "      <td>...</td>\n",
       "      <td>...</td>\n",
       "      <td>...</td>\n",
       "      <td>...</td>\n",
       "    </tr>\n",
       "    <tr>\n",
       "      <th>165020</th>\n",
       "      <td>29035000</td>\n",
       "      <td>2020-12-31</td>\n",
       "      <td>67</td>\n",
       "      <td>BOLIVAR</td>\n",
       "      <td>ARJONA</td>\n",
       "      <td>BAJO MAGDALENA</td>\n",
       "      <td>2020</td>\n",
       "    </tr>\n",
       "    <tr>\n",
       "      <th>165021</th>\n",
       "      <td>29035000</td>\n",
       "      <td>2020-12-31</td>\n",
       "      <td>61</td>\n",
       "      <td>BOLIVAR</td>\n",
       "      <td>ARJONA</td>\n",
       "      <td>BAJO MAGDALENA</td>\n",
       "      <td>2020</td>\n",
       "    </tr>\n",
       "    <tr>\n",
       "      <th>165022</th>\n",
       "      <td>29035000</td>\n",
       "      <td>2020-12-31</td>\n",
       "      <td>60</td>\n",
       "      <td>BOLIVAR</td>\n",
       "      <td>ARJONA</td>\n",
       "      <td>BAJO MAGDALENA</td>\n",
       "      <td>2020</td>\n",
       "    </tr>\n",
       "    <tr>\n",
       "      <th>165023</th>\n",
       "      <td>29015000</td>\n",
       "      <td>2020-12-31</td>\n",
       "      <td>51</td>\n",
       "      <td>BOLIVAR</td>\n",
       "      <td>EL GUAMO</td>\n",
       "      <td>BAJO MAGDALENA</td>\n",
       "      <td>2020</td>\n",
       "    </tr>\n",
       "    <tr>\n",
       "      <th>165024</th>\n",
       "      <td>29015000</td>\n",
       "      <td>2020-12-31</td>\n",
       "      <td>39</td>\n",
       "      <td>BOLIVAR</td>\n",
       "      <td>EL GUAMO</td>\n",
       "      <td>BAJO MAGDALENA</td>\n",
       "      <td>2020</td>\n",
       "    </tr>\n",
       "  </tbody>\n",
       "</table>\n",
       "<p>165025 rows × 7 columns</p>\n",
       "</div>"
      ],
      "text/plain": [
       "        CodigoEstacion FechaObservacion  ValorObservado Departamento  \\\n",
       "0             29015000       2016-10-20             100      BOLIVAR   \n",
       "1             29015000       2016-05-07             100      BOLIVAR   \n",
       "2             29015000       2016-07-16              79      BOLIVAR   \n",
       "3             29015000       2016-04-08              69      BOLIVAR   \n",
       "4             29035000       2017-09-12              81      BOLIVAR   \n",
       "...                ...              ...             ...          ...   \n",
       "165020        29035000       2020-12-31              67      BOLIVAR   \n",
       "165021        29035000       2020-12-31              61      BOLIVAR   \n",
       "165022        29035000       2020-12-31              60      BOLIVAR   \n",
       "165023        29015000       2020-12-31              51      BOLIVAR   \n",
       "165024        29015000       2020-12-31              39      BOLIVAR   \n",
       "\n",
       "       Municipio ZonaHidrografica  AñoObservacionH  \n",
       "0       EL GUAMO   BAJO MAGDALENA             2016  \n",
       "1       EL GUAMO   BAJO MAGDALENA             2016  \n",
       "2       EL GUAMO   BAJO MAGDALENA             2016  \n",
       "3       EL GUAMO   BAJO MAGDALENA             2016  \n",
       "4         ARJONA   BAJO MAGDALENA             2017  \n",
       "...          ...              ...              ...  \n",
       "165020    ARJONA   BAJO MAGDALENA             2020  \n",
       "165021    ARJONA   BAJO MAGDALENA             2020  \n",
       "165022    ARJONA   BAJO MAGDALENA             2020  \n",
       "165023  EL GUAMO   BAJO MAGDALENA             2020  \n",
       "165024  EL GUAMO   BAJO MAGDALENA             2020  \n",
       "\n",
       "[165025 rows x 7 columns]"
      ]
     },
     "execution_count": 14,
     "metadata": {},
     "output_type": "execute_result"
    }
   ],
   "source": [
    "df_hume"
   ]
  },
  {
   "cell_type": "code",
   "execution_count": null,
   "metadata": {},
   "outputs": [
    {
     "data": {
      "text/plain": [
       "np.True_"
      ]
     },
     "execution_count": 7,
     "metadata": {},
     "output_type": "execute_result"
    }
   ],
   "source": [
    "#check duplicated data\n",
    "df_hume.duplicated().any()"
   ]
  },
  {
   "cell_type": "code",
   "execution_count": null,
   "metadata": {},
   "outputs": [],
   "source": [
    "#remove duplicated data\n",
    "df_humed=df_hume.drop_duplicates()"
   ]
  },
  {
   "cell_type": "code",
   "execution_count": 9,
   "metadata": {},
   "outputs": [
    {
     "data": {
      "text/plain": [
       "np.False_"
      ]
     },
     "execution_count": 9,
     "metadata": {},
     "output_type": "execute_result"
    }
   ],
   "source": [
    "df_humed.duplicated().any()"
   ]
  },
  {
   "cell_type": "code",
   "execution_count": 10,
   "metadata": {},
   "outputs": [
    {
     "data": {
      "text/plain": [
       "(98726, 7)"
      ]
     },
     "execution_count": 10,
     "metadata": {},
     "output_type": "execute_result"
    }
   ],
   "source": [
    "df_humed.shape"
   ]
  },
  {
   "cell_type": "code",
   "execution_count": null,
   "metadata": {},
   "outputs": [
    {
     "name": "stdout",
     "output_type": "stream",
     "text": [
      "Valor Unico en CodigoEstacion:  9\n",
      "Valor Unico en FechaObservacion:  1822\n",
      "Valor Unico en ValorObservado:  101\n",
      "Valor Unico en Departamento:  1\n",
      "Valor Unico en Municipio:  7\n",
      "Valor Unico en ZonaHidrografica:  4\n",
      "Valor Unico en AñoObservacionH:  5\n"
     ]
    }
   ],
   "source": [
    "# Review of unique values in the columns\n",
    "\n",
    "# Definition of the unique value function\n",
    "\n",
    "def valor_unico(df_humed):\n",
    "    saver = {}\n",
    "    for c in df_humed.columns:\n",
    "        # Counter of unique values\n",
    "        count = df_humed[c].nunique()\n",
    "        # Save unique values in the position\n",
    "        saver[c] = (count)\n",
    "    return saver\n",
    "\n",
    "# Obtaining or saving unique values\n",
    "v_unicos = valor_unico(df_humed)\n",
    "\n",
    "# Printing each unique value by column\n",
    "for col, val in v_unicos.items():\n",
    "    print(f'Unique Value in {col}:  {val}')\n"
   ]
  },
  {
   "cell_type": "code",
   "execution_count": null,
   "metadata": {},
   "outputs": [],
   "source": [
    "# We review unique values of categorical variables\n",
    "# Specifically the column 'Municipio'\n",
    "columna_Mun = 'Municipio'\n",
    "# We define a function to see each unique value\n",
    "def unique_catg(df_humed, columna):\n",
    "    # Check the column in the DataFrame\n",
    "    if columna in df_humed.columns:\n",
    "        # Get the unique value\n",
    "        unicos = df_humed[columna].unique()\n",
    "        # Count the number of unique values\n",
    "        cantitad_unicos = len(unicos)\n",
    "        # Print each unique value\n",
    "        for i in unicos:\n",
    "            print(f'*{i}')\n",
    "        print(f'The number of unique values in {columna} is: {cantitad_unicos}')\n"
   ]
  },
  {
   "cell_type": "code",
   "execution_count": null,
   "metadata": {},
   "outputs": [
    {
     "name": "stdout",
     "output_type": "stream",
     "text": [
      "*EL GUAMO\n",
      "*ARJONA\n",
      "*EL CARMÉN DE BOLÍVAR\n",
      "*SANTA CATALINA\n",
      "*SANTA ROSA DEL SUR\n",
      "*CARTAGENA DE INDIAS\n",
      "*ACHÍ\n",
      "La cantidad de valores unicos de Municipio son : 7\n"
     ]
    }
   ],
   "source": [
    "# execute unique value in categorical columns\n",
    "\n",
    "unique_catg(df_humed, columna_Mun)"
   ]
  },
  {
   "cell_type": "code",
   "execution_count": null,
   "metadata": {},
   "outputs": [],
   "source": [
    "# change tiltes to value without tildes\n",
    "df_humed.loc[:, 'Municipio'] = df_humed['Municipio'].str.replace('í', 'i')\n",
    "df_humed.loc[:, 'Municipio'] = df_humed['Municipio'].str.replace('é', 'e')\n"
   ]
  },
  {
   "cell_type": "code",
   "execution_count": 15,
   "metadata": {},
   "outputs": [
    {
     "name": "stderr",
     "output_type": "stream",
     "text": [
      "C:\\Users\\Cristin Rodriguez\\AppData\\Local\\Temp\\ipykernel_14128\\678192514.py:1: SettingWithCopyWarning: \n",
      "A value is trying to be set on a copy of a slice from a DataFrame.\n",
      "Try using .loc[row_indexer,col_indexer] = value instead\n",
      "\n",
      "See the caveats in the documentation: https://pandas.pydata.org/pandas-docs/stable/user_guide/indexing.html#returning-a-view-versus-a-copy\n",
      "  df_humed['Municipio']= df_humed['Municipio'].str.lower()\n"
     ]
    }
   ],
   "source": [
    "df_humed['Municipio']= df_humed['Municipio'].str.lower()"
   ]
  },
  {
   "cell_type": "code",
   "execution_count": 18,
   "metadata": {},
   "outputs": [
    {
     "name": "stdout",
     "output_type": "stream",
     "text": [
      "*el guamo\n",
      "*arjona\n",
      "*el carmen de bolivar\n",
      "*santa catalina\n",
      "*santa rosa del sur\n",
      "*cartagena de indias\n",
      "*achi\n",
      "La cantidad de valores unicos de Municipio son : 7\n"
     ]
    }
   ],
   "source": [
    "unique_catg(df_humed, columna_Mun)\n"
   ]
  },
  {
   "cell_type": "code",
   "execution_count": 45,
   "metadata": {},
   "outputs": [
    {
     "name": "stdout",
     "output_type": "stream",
     "text": [
      "<class 'pandas.core.frame.DataFrame'>\n",
      "Index: 98726 entries, 0 to 165023\n",
      "Data columns (total 7 columns):\n",
      " #   Column            Non-Null Count  Dtype \n",
      "---  ------            --------------  ----- \n",
      " 0   CodigoEstacion    98726 non-null  int64 \n",
      " 1   FechaObservacion  98726 non-null  object\n",
      " 2   ValorObservado    98726 non-null  int64 \n",
      " 3   Departamento      98726 non-null  object\n",
      " 4   Municipio         98726 non-null  object\n",
      " 5   ZonaHidrografica  98726 non-null  object\n",
      " 6   AñoObservacionH   98726 non-null  int32 \n",
      "dtypes: int32(1), int64(2), object(4)\n",
      "memory usage: 5.6+ MB\n"
     ]
    }
   ],
   "source": [
    "df_humed.info()"
   ]
  },
  {
   "cell_type": "code",
   "execution_count": 46,
   "metadata": {},
   "outputs": [
    {
     "data": {
      "text/html": [
       "<div>\n",
       "<style scoped>\n",
       "    .dataframe tbody tr th:only-of-type {\n",
       "        vertical-align: middle;\n",
       "    }\n",
       "\n",
       "    .dataframe tbody tr th {\n",
       "        vertical-align: top;\n",
       "    }\n",
       "\n",
       "    .dataframe thead th {\n",
       "        text-align: right;\n",
       "    }\n",
       "</style>\n",
       "<table border=\"1\" class=\"dataframe\">\n",
       "  <thead>\n",
       "    <tr style=\"text-align: right;\">\n",
       "      <th></th>\n",
       "      <th>CodigoEstacion</th>\n",
       "      <th>FechaObservacion</th>\n",
       "      <th>ValorObservado</th>\n",
       "      <th>Departamento</th>\n",
       "      <th>Municipio</th>\n",
       "      <th>ZonaHidrografica</th>\n",
       "      <th>AñoObservacionH</th>\n",
       "    </tr>\n",
       "  </thead>\n",
       "  <tbody>\n",
       "    <tr>\n",
       "      <th>0</th>\n",
       "      <td>29015000</td>\n",
       "      <td>2016-10-20</td>\n",
       "      <td>100</td>\n",
       "      <td>BOLIVAR</td>\n",
       "      <td>EL GUAMO</td>\n",
       "      <td>BAJO MAGDALENA</td>\n",
       "      <td>2016</td>\n",
       "    </tr>\n",
       "    <tr>\n",
       "      <th>1</th>\n",
       "      <td>29015000</td>\n",
       "      <td>2016-05-07</td>\n",
       "      <td>100</td>\n",
       "      <td>BOLIVAR</td>\n",
       "      <td>EL GUAMO</td>\n",
       "      <td>BAJO MAGDALENA</td>\n",
       "      <td>2016</td>\n",
       "    </tr>\n",
       "    <tr>\n",
       "      <th>2</th>\n",
       "      <td>29015000</td>\n",
       "      <td>2016-07-16</td>\n",
       "      <td>79</td>\n",
       "      <td>BOLIVAR</td>\n",
       "      <td>EL GUAMO</td>\n",
       "      <td>BAJO MAGDALENA</td>\n",
       "      <td>2016</td>\n",
       "    </tr>\n",
       "    <tr>\n",
       "      <th>3</th>\n",
       "      <td>29015000</td>\n",
       "      <td>2016-04-08</td>\n",
       "      <td>69</td>\n",
       "      <td>BOLIVAR</td>\n",
       "      <td>EL GUAMO</td>\n",
       "      <td>BAJO MAGDALENA</td>\n",
       "      <td>2016</td>\n",
       "    </tr>\n",
       "    <tr>\n",
       "      <th>4</th>\n",
       "      <td>29035000</td>\n",
       "      <td>2017-09-12</td>\n",
       "      <td>81</td>\n",
       "      <td>BOLIVAR</td>\n",
       "      <td>ARJONA</td>\n",
       "      <td>BAJO MAGDALENA</td>\n",
       "      <td>2017</td>\n",
       "    </tr>\n",
       "  </tbody>\n",
       "</table>\n",
       "</div>"
      ],
      "text/plain": [
       "   CodigoEstacion FechaObservacion  ValorObservado Departamento Municipio  \\\n",
       "0        29015000       2016-10-20             100      BOLIVAR  EL GUAMO   \n",
       "1        29015000       2016-05-07             100      BOLIVAR  EL GUAMO   \n",
       "2        29015000       2016-07-16              79      BOLIVAR  EL GUAMO   \n",
       "3        29015000       2016-04-08              69      BOLIVAR  EL GUAMO   \n",
       "4        29035000       2017-09-12              81      BOLIVAR    ARJONA   \n",
       "\n",
       "  ZonaHidrografica  AñoObservacionH  \n",
       "0   BAJO MAGDALENA             2016  \n",
       "1   BAJO MAGDALENA             2016  \n",
       "2   BAJO MAGDALENA             2016  \n",
       "3   BAJO MAGDALENA             2016  \n",
       "4   BAJO MAGDALENA             2017  "
      ]
     },
     "execution_count": 46,
     "metadata": {},
     "output_type": "execute_result"
    }
   ],
   "source": [
    "df_humed.head()"
   ]
  },
  {
   "cell_type": "code",
   "execution_count": null,
   "metadata": {},
   "outputs": [
    {
     "data": {
      "image/png": "[encoded data removed]",
      "text/plain": [
       "<Figure size 1000x600 with 1 Axes>"
      ]
     },
     "metadata": {},
     "output_type": "display_data"
    }
   ],
   "source": [
    "# Let's graphically see the humidity data by year\n",
    "\n",
    "# Grouping by year and the average humidity\n",
    "df_group_A_P = df_humed.groupby('AñoObservacionH', as_index=False)['ValorObservado'].mean()\n",
    "\n",
    "# Creating a line graph for YEAR vs Humidity\n",
    "\n",
    "# Set the canvas\n",
    "plt.figure(figsize=(10, 6))\n",
    "# Establish the graph\n",
    "sns.lineplot(x='AñoObservacionH', y='ValorObservado', data=df_group_A_P)\n",
    "\n",
    "# Design of the graph\n",
    "plt.title('Average Humidity by Year', fontsize=18)\n",
    "plt.xlabel('Year')\n",
    "plt.ylabel('Humidity')\n",
    "\n",
    "# Visualization\n",
    "plt.grid()\n",
    "plt.show()\n"
   ]
  },
  {
   "cell_type": "code",
   "execution_count": null,
   "metadata": {},
   "outputs": [],
   "source": [
    "# save data clean\n",
    "df_humed.to_csv('HUmedadB1620_clean.csv')"
   ]
  },
  {
   "cell_type": "code",
   "execution_count": 22,
   "metadata": {},
   "outputs": [],
   "source": [
    "df= pd.read_csv('HumedadB1620_clean.csv')"
   ]
  },
  {
   "cell_type": "code",
   "execution_count": 24,
   "metadata": {},
   "outputs": [
    {
     "data": {
      "text/html": [
       "<div>\n",
       "<style scoped>\n",
       "    .dataframe tbody tr th:only-of-type {\n",
       "        vertical-align: middle;\n",
       "    }\n",
       "\n",
       "    .dataframe tbody tr th {\n",
       "        vertical-align: top;\n",
       "    }\n",
       "\n",
       "    .dataframe thead th {\n",
       "        text-align: right;\n",
       "    }\n",
       "</style>\n",
       "<table border=\"1\" class=\"dataframe\">\n",
       "  <thead>\n",
       "    <tr style=\"text-align: right;\">\n",
       "      <th></th>\n",
       "      <th>Unnamed: 0</th>\n",
       "      <th>CodigoEstacion</th>\n",
       "      <th>FechaObservacion</th>\n",
       "      <th>ValorObservado</th>\n",
       "      <th>Departamento</th>\n",
       "      <th>Municipio</th>\n",
       "      <th>ZonaHidrografica</th>\n",
       "      <th>AñoObservacionH</th>\n",
       "    </tr>\n",
       "  </thead>\n",
       "  <tbody>\n",
       "    <tr>\n",
       "      <th>0</th>\n",
       "      <td>0</td>\n",
       "      <td>29015000</td>\n",
       "      <td>2016-10-20</td>\n",
       "      <td>100</td>\n",
       "      <td>BOLIVAR</td>\n",
       "      <td>el guamo</td>\n",
       "      <td>BAJO MAGDALENA</td>\n",
       "      <td>2016</td>\n",
       "    </tr>\n",
       "    <tr>\n",
       "      <th>1</th>\n",
       "      <td>1</td>\n",
       "      <td>29015000</td>\n",
       "      <td>2016-05-07</td>\n",
       "      <td>100</td>\n",
       "      <td>BOLIVAR</td>\n",
       "      <td>el guamo</td>\n",
       "      <td>BAJO MAGDALENA</td>\n",
       "      <td>2016</td>\n",
       "    </tr>\n",
       "    <tr>\n",
       "      <th>2</th>\n",
       "      <td>2</td>\n",
       "      <td>29015000</td>\n",
       "      <td>2016-07-16</td>\n",
       "      <td>79</td>\n",
       "      <td>BOLIVAR</td>\n",
       "      <td>el guamo</td>\n",
       "      <td>BAJO MAGDALENA</td>\n",
       "      <td>2016</td>\n",
       "    </tr>\n",
       "    <tr>\n",
       "      <th>3</th>\n",
       "      <td>3</td>\n",
       "      <td>29015000</td>\n",
       "      <td>2016-04-08</td>\n",
       "      <td>69</td>\n",
       "      <td>BOLIVAR</td>\n",
       "      <td>el guamo</td>\n",
       "      <td>BAJO MAGDALENA</td>\n",
       "      <td>2016</td>\n",
       "    </tr>\n",
       "    <tr>\n",
       "      <th>4</th>\n",
       "      <td>4</td>\n",
       "      <td>29035000</td>\n",
       "      <td>2017-09-12</td>\n",
       "      <td>81</td>\n",
       "      <td>BOLIVAR</td>\n",
       "      <td>arjona</td>\n",
       "      <td>BAJO MAGDALENA</td>\n",
       "      <td>2017</td>\n",
       "    </tr>\n",
       "  </tbody>\n",
       "</table>\n",
       "</div>"
      ],
      "text/plain": [
       "   Unnamed: 0  CodigoEstacion FechaObservacion  ValorObservado Departamento  \\\n",
       "0           0        29015000       2016-10-20             100      BOLIVAR   \n",
       "1           1        29015000       2016-05-07             100      BOLIVAR   \n",
       "2           2        29015000       2016-07-16              79      BOLIVAR   \n",
       "3           3        29015000       2016-04-08              69      BOLIVAR   \n",
       "4           4        29035000       2017-09-12              81      BOLIVAR   \n",
       "\n",
       "  Municipio ZonaHidrografica  AñoObservacionH  \n",
       "0  el guamo   BAJO MAGDALENA             2016  \n",
       "1  el guamo   BAJO MAGDALENA             2016  \n",
       "2  el guamo   BAJO MAGDALENA             2016  \n",
       "3  el guamo   BAJO MAGDALENA             2016  \n",
       "4    arjona   BAJO MAGDALENA             2017  "
      ]
     },
     "execution_count": 24,
     "metadata": {},
     "output_type": "execute_result"
    }
   ],
   "source": [
    "df.head()"
   ]
  },
  {
   "cell_type": "code",
   "execution_count": null,
   "metadata": {},
   "outputs": [],
   "source": [
    "#remove not neccesary column\n",
    "df = df.drop(columns=['Unnamed: 0'])\n"
   ]
  },
  {
   "cell_type": "code",
   "execution_count": null,
   "metadata": {},
   "outputs": [
    {
     "name": "stdout",
     "output_type": "stream",
     "text": [
      "Index(['CodigoEstacion', 'FechaObservacion', 'ValorObservado', 'Departamento',\n",
      "       'municipio', 'ZonaHidrografica', 'periodo'],\n",
      "      dtype='object')\n"
     ]
    }
   ],
   "source": [
    "#rename columns to join later\n",
    "df.rename(columns={\n",
    "    'Municipio': 'municipio',\n",
    "    'AñoObservacionH':'periodo'},inplace=True)\n",
    "\n",
    "print(df.columns)"
   ]
  },
  {
   "cell_type": "code",
   "execution_count": null,
   "metadata": {},
   "outputs": [],
   "source": [
    "# save data clean again"
   ]
  },
  {
   "cell_type": "code",
   "execution_count": 28,
   "metadata": {},
   "outputs": [],
   "source": [
    "df.to_csv('HumedadB1620_clean.csv')"
   ]
  }
 ],
 "metadata": {
  "kernelspec": {
   "display_name": "Python 3",
   "language": "python",
   "name": "python3"
  },
  "language_info": {
   "codemirror_mode": {
    "name": "ipython",
    "version": 3
   },
   "file_extension": ".py",
   "mimetype": "text/x-python",
   "name": "python",
   "nbconvert_exporter": "python",
   "pygments_lexer": "ipython3",
   "version": "3.12.6"
  }
 },
 "nbformat": 4,
 "nbformat_minor": 2
}
